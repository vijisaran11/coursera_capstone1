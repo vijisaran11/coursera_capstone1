{
    "cells": [
        {
            "metadata": {
                "collapsed": true
            },
            "cell_type": "markdown",
            "source": "<h1>APPLIED DATA SCIENCE CAPSTONE PROJECT - WEEK1</h1>"
        },
        {
            "metadata": {},
            "cell_type": "markdown",
            "source": "<h2><em>Foursquare</em></h2>"
        },
        {
            "metadata": {},
            "cell_type": "markdown",
            "source": "<p>Foursquare City Guide, commonly known as Foursquare, is a local search-and-discovery mobile app developed by Foursquare Labs Inc. The app provides personalized recommendations of places to go near a user's current location based on users' previous browsing history</p>"
        },
        {
            "metadata": {},
            "cell_type": "markdown",
            "source": "<strong>Features</strong>"
        },
        {
            "metadata": {},
            "cell_type": "markdown",
            "source": "<ol>\n<li>Local search and recommendations</li>\n<li>Tips and expertise</li>\n<li>Tastes</li>\n<li>Location detection</li>\n<li>Ratings</li>\n<li>Lists</li></ol>\n"
        },
        {
            "metadata": {},
            "cell_type": "code",
            "source": "import pandas as pd\nimport numpy as np\nprint(\"Hello Capstone Project Course!\")",
            "execution_count": 4,
            "outputs": [
                {
                    "output_type": "stream",
                    "text": "Hello Capstone Project Course!\n",
                    "name": "stdout"
                }
            ]
        },
        {
            "metadata": {},
            "cell_type": "code",
            "source": "",
            "execution_count": null,
            "outputs": []
        }
    ],
    "metadata": {
        "kernelspec": {
            "name": "python3",
            "display_name": "Python 3.7",
            "language": "python"
        },
        "language_info": {
            "name": "python",
            "version": "3.7.10",
            "mimetype": "text/x-python",
            "codemirror_mode": {
                "name": "ipython",
                "version": 3
            },
            "pygments_lexer": "ipython3",
            "nbconvert_exporter": "python",
            "file_extension": ".py"
        }
    },
    "nbformat": 4,
    "nbformat_minor": 1
}