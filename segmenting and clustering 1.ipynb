{
    "cells": [
        {
            "metadata": {},
            "cell_type": "code",
            "source": "import numpy as np # library to handle data in a vectorized manner\n\nimport pandas as pd # library for data analsysis\npd.set_option('display.max_columns', None)\npd.set_option('display.max_rows', None)\n\nimport json # library to handle JSON files\n\n\n#!conda install -c conda-forge geopy --yes # uncomment this line if you haven't completed the Foursquare API lab\nfrom geopy.geocoders import Nominatim # convert an address into latitude and longitude values\n\nimport requests # library to handle requests\nfrom pandas.io.json import json_normalize # tranform JSON file into a pandas dataframe\n\n# Matplotlib and associated plotting modules\nimport matplotlib.cm as cm\nimport matplotlib.colors as colors\n\n# import k-means from clustering stage\nfrom sklearn.cluster import KMeans\n\n#!conda install -c conda-forge folium=0.5.0 --yes # uncomment this line if you haven't completed the Foursquare API lab\nimport folium # map rendering library\nfrom folium import plugins\nfrom folium.plugins import MarkerCluster\n\nprint('Libraries imported.')\n\n\n",
            "execution_count": 20,
            "outputs": [
                {
                    "output_type": "stream",
                    "text": "Libraries imported.\n",
                    "name": "stdout"
                }
            ]
        },
        {
            "metadata": {},
            "cell_type": "code",
            "source": "from bs4 import BeautifulSoup\nimport requests\nimport pandas as pd\n\n# download url data from internet\nurl = \"https://en.wikipedia.org/wiki/List_of_postal_codes_of_Canada:_M\"\nsource = requests.get(url).text\nCanada_data = BeautifulSoup(source, 'lxml')\n\n# creat a new Dataframe\ncolumn_names = ['Postalcode','Borough','Neighborhood']\ntoronto = pd.DataFrame(columns = column_names)\n\ncontent = Canada_data.find('div', class_='mw-parser-output')\ntable = content.table.tbody\npostcode = 0\nborough = 0\nneighborhood = 0\n\nfor tr in table.find_all('tr'):\n    i = 0\n    for td in tr.find_all('td'):\n        if i == 0:\n            postcode = td.text\n            i = i + 1\n        elif i == 1:\n            borough = td.text\n            i = i + 1\n        elif i == 2: \n            neighborhood = td.text.strip('\\n').replace(']','')\n    toronto = toronto.append({'Postalcode': postcode,'Borough': borough,'Neighborhood': neighborhood},ignore_index=True)\n\n# clean dataframe \ntoronto = toronto[toronto.Borough!='Not assigned']\ntoronto = toronto[toronto.Borough!= 0]\ntoronto.reset_index(drop = True, inplace = True)\ni = 0\nfor i in range(0,toronto.shape[0]):\n    if toronto.iloc[i][2] == 'Not assigned':\n        toronto.iloc[i][2] = toronto.iloc[i][1]\n        i = i+1\n                                 \ndf = toronto.groupby(['Postalcode','Borough'])['Neighborhood'].apply(', '.join).reset_index()\ndf.head()\n",
            "execution_count": 23,
            "outputs": [
                {
                    "output_type": "execute_result",
                    "execution_count": 23,
                    "data": {
                        "text/plain": "                                          Postalcode                Borough  \\\n0                              \\nM1ANot assigned\\n\\n  \\nM2ANot assigned\\n\\n   \n1              \\nM1BScarborough(Malvern / Rouge)\\n\\n  \\nM2BNot assigned\\n\\n   \n2  \\nM1CScarborough(Rouge Hill / Port Union / Hig...  \\nM2CNot assigned\\n\\n   \n3  \\nM1EScarborough(Guildwood / Morningside / Wes...  \\nM2ENot assigned\\n\\n   \n4                       \\nM1GScarborough(Woburn)\\n\\n  \\nM2GNot assigned\\n\\n   \n\n                                        Neighborhood  \n0                     M9AEtobicoke(Islington Avenue)  \n1  M9BEtobicoke(West Deane Park / Princess Garden...  \n2  M9CEtobicoke(Eringate / Bloordale Gardens / Ol...  \n3                                    M9ENot assigned  \n4                                    M9GNot assigned  ",
                        "text/html": "<div>\n<style scoped>\n    .dataframe tbody tr th:only-of-type {\n        vertical-align: middle;\n    }\n\n    .dataframe tbody tr th {\n        vertical-align: top;\n    }\n\n    .dataframe thead th {\n        text-align: right;\n    }\n</style>\n<table border=\"1\" class=\"dataframe\">\n  <thead>\n    <tr style=\"text-align: right;\">\n      <th></th>\n      <th>Postalcode</th>\n      <th>Borough</th>\n      <th>Neighborhood</th>\n    </tr>\n  </thead>\n  <tbody>\n    <tr>\n      <th>0</th>\n      <td>\\nM1ANot assigned\\n\\n</td>\n      <td>\\nM2ANot assigned\\n\\n</td>\n      <td>M9AEtobicoke(Islington Avenue)</td>\n    </tr>\n    <tr>\n      <th>1</th>\n      <td>\\nM1BScarborough(Malvern / Rouge)\\n\\n</td>\n      <td>\\nM2BNot assigned\\n\\n</td>\n      <td>M9BEtobicoke(West Deane Park / Princess Garden...</td>\n    </tr>\n    <tr>\n      <th>2</th>\n      <td>\\nM1CScarborough(Rouge Hill / Port Union / Hig...</td>\n      <td>\\nM2CNot assigned\\n\\n</td>\n      <td>M9CEtobicoke(Eringate / Bloordale Gardens / Ol...</td>\n    </tr>\n    <tr>\n      <th>3</th>\n      <td>\\nM1EScarborough(Guildwood / Morningside / Wes...</td>\n      <td>\\nM2ENot assigned\\n\\n</td>\n      <td>M9ENot assigned</td>\n    </tr>\n    <tr>\n      <th>4</th>\n      <td>\\nM1GScarborough(Woburn)\\n\\n</td>\n      <td>\\nM2GNot assigned\\n\\n</td>\n      <td>M9GNot assigned</td>\n    </tr>\n  </tbody>\n</table>\n</div>"
                    },
                    "metadata": {}
                }
            ]
        },
        {
            "metadata": {},
            "cell_type": "code",
            "source": "df = df.dropna()\nempty = 'Not assigned'\ndf = df[(df.Postalcode != empty ) & (df.Borough != empty) & (df.Neighborhood != empty)",
            "execution_count": 24,
            "outputs": [
                {
                    "output_type": "error",
                    "ename": "SyntaxError",
                    "evalue": "unexpected EOF while parsing (<ipython-input-24-c13d92e268cf>, line 3)",
                    "traceback": [
                        "\u001b[0;36m  File \u001b[0;32m\"<ipython-input-24-c13d92e268cf>\"\u001b[0;36m, line \u001b[0;32m3\u001b[0m\n\u001b[0;31m    df = df[(df.Postalcode != empty ) & (df.Borough != empty) & (df.Neighborhood != empty)\u001b[0m\n\u001b[0m                                                                                          ^\u001b[0m\n\u001b[0;31mSyntaxError\u001b[0m\u001b[0;31m:\u001b[0m unexpected EOF while parsing\n"
                    ]
                }
            ]
        },
        {
            "metadata": {},
            "cell_type": "code",
            "source": "df.head()",
            "execution_count": 25,
            "outputs": [
                {
                    "output_type": "execute_result",
                    "execution_count": 25,
                    "data": {
                        "text/plain": "                                          Postalcode                Borough  \\\n0                              \\nM1ANot assigned\\n\\n  \\nM2ANot assigned\\n\\n   \n1              \\nM1BScarborough(Malvern / Rouge)\\n\\n  \\nM2BNot assigned\\n\\n   \n2  \\nM1CScarborough(Rouge Hill / Port Union / Hig...  \\nM2CNot assigned\\n\\n   \n3  \\nM1EScarborough(Guildwood / Morningside / Wes...  \\nM2ENot assigned\\n\\n   \n4                       \\nM1GScarborough(Woburn)\\n\\n  \\nM2GNot assigned\\n\\n   \n\n                                        Neighborhood  \n0                     M9AEtobicoke(Islington Avenue)  \n1  M9BEtobicoke(West Deane Park / Princess Garden...  \n2  M9CEtobicoke(Eringate / Bloordale Gardens / Ol...  \n3                                    M9ENot assigned  \n4                                    M9GNot assigned  ",
                        "text/html": "<div>\n<style scoped>\n    .dataframe tbody tr th:only-of-type {\n        vertical-align: middle;\n    }\n\n    .dataframe tbody tr th {\n        vertical-align: top;\n    }\n\n    .dataframe thead th {\n        text-align: right;\n    }\n</style>\n<table border=\"1\" class=\"dataframe\">\n  <thead>\n    <tr style=\"text-align: right;\">\n      <th></th>\n      <th>Postalcode</th>\n      <th>Borough</th>\n      <th>Neighborhood</th>\n    </tr>\n  </thead>\n  <tbody>\n    <tr>\n      <th>0</th>\n      <td>\\nM1ANot assigned\\n\\n</td>\n      <td>\\nM2ANot assigned\\n\\n</td>\n      <td>M9AEtobicoke(Islington Avenue)</td>\n    </tr>\n    <tr>\n      <th>1</th>\n      <td>\\nM1BScarborough(Malvern / Rouge)\\n\\n</td>\n      <td>\\nM2BNot assigned\\n\\n</td>\n      <td>M9BEtobicoke(West Deane Park / Princess Garden...</td>\n    </tr>\n    <tr>\n      <th>2</th>\n      <td>\\nM1CScarborough(Rouge Hill / Port Union / Hig...</td>\n      <td>\\nM2CNot assigned\\n\\n</td>\n      <td>M9CEtobicoke(Eringate / Bloordale Gardens / Ol...</td>\n    </tr>\n    <tr>\n      <th>3</th>\n      <td>\\nM1EScarborough(Guildwood / Morningside / Wes...</td>\n      <td>\\nM2ENot assigned\\n\\n</td>\n      <td>M9ENot assigned</td>\n    </tr>\n    <tr>\n      <th>4</th>\n      <td>\\nM1GScarborough(Woburn)\\n\\n</td>\n      <td>\\nM2GNot assigned\\n\\n</td>\n      <td>M9GNot assigned</td>\n    </tr>\n  </tbody>\n</table>\n</div>"
                    },
                    "metadata": {}
                }
            ]
        },
        {
            "metadata": {},
            "cell_type": "code",
            "source": "def neighborhood_list(grouped):    \n    return ', '.join(sorted(grouped['Neighborhood'].tolist()))\n                    \ngrp = df.groupby(['Postalcode', 'Borough'])\ndf2 = grp.apply(neighborhood_list).reset_index(name='Neighborhood')",
            "execution_count": 26,
            "outputs": []
        },
        {
            "metadata": {},
            "cell_type": "code",
            "source": "\nprint(df2.shape)\ndf2.head(10)",
            "execution_count": 28,
            "outputs": [
                {
                    "output_type": "stream",
                    "text": "(20, 3)\n",
                    "name": "stdout"
                },
                {
                    "output_type": "execute_result",
                    "execution_count": 28,
                    "data": {
                        "text/plain": "                                          Postalcode  \\\n0                              \\nM1ANot assigned\\n\\n   \n1              \\nM1BScarborough(Malvern / Rouge)\\n\\n   \n2  \\nM1CScarborough(Rouge Hill / Port Union / Hig...   \n3  \\nM1EScarborough(Guildwood / Morningside / Wes...   \n4                       \\nM1GScarborough(Woburn)\\n\\n   \n5                    \\nM1HScarborough(Cedarbrae)\\n\\n   \n6          \\nM1JScarborough(Scarborough Village)\\n\\n   \n7  \\nM1KScarborough(Kennedy Park / Ionview / East...   \n8  \\nM1LScarborough(Golden Mile / Clairlea / Oakr...   \n9  \\nM1MScarborough(Cliffside / Cliffcrest / Scar...   \n\n                                             Borough  \\\n0                              \\nM2ANot assigned\\n\\n   \n1                              \\nM2BNot assigned\\n\\n   \n2                              \\nM2CNot assigned\\n\\n   \n3                              \\nM2ENot assigned\\n\\n   \n4                              \\nM2GNot assigned\\n\\n   \n5             \\nM2HNorth York(Hillcrest Village)\\n\\n   \n6  \\nM2JNorth York(Fairview / Henry Farm / Oriole...   \n7               \\nM2KNorth York(Bayview Village)\\n\\n   \n8     \\nM2LNorth York(York Mills / Silver Hills)\\n\\n   \n9      \\nM2MNorth York(Willowdale / Newtonbrook)\\n\\n   \n\n                                        Neighborhood  \n0                     M9AEtobicoke(Islington Avenue)  \n1  M9BEtobicoke(West Deane Park / Princess Garden...  \n2  M9CEtobicoke(Eringate / Bloordale Gardens / Ol...  \n3                                    M9ENot assigned  \n4                                    M9GNot assigned  \n5                                    M9HNot assigned  \n6                                    M9JNot assigned  \n7                                    M9KNot assigned  \n8                       M9LNorth York(Humber Summit)  \n9                   M9MNorth York(Humberlea / Emery)  ",
                        "text/html": "<div>\n<style scoped>\n    .dataframe tbody tr th:only-of-type {\n        vertical-align: middle;\n    }\n\n    .dataframe tbody tr th {\n        vertical-align: top;\n    }\n\n    .dataframe thead th {\n        text-align: right;\n    }\n</style>\n<table border=\"1\" class=\"dataframe\">\n  <thead>\n    <tr style=\"text-align: right;\">\n      <th></th>\n      <th>Postalcode</th>\n      <th>Borough</th>\n      <th>Neighborhood</th>\n    </tr>\n  </thead>\n  <tbody>\n    <tr>\n      <th>0</th>\n      <td>\\nM1ANot assigned\\n\\n</td>\n      <td>\\nM2ANot assigned\\n\\n</td>\n      <td>M9AEtobicoke(Islington Avenue)</td>\n    </tr>\n    <tr>\n      <th>1</th>\n      <td>\\nM1BScarborough(Malvern / Rouge)\\n\\n</td>\n      <td>\\nM2BNot assigned\\n\\n</td>\n      <td>M9BEtobicoke(West Deane Park / Princess Garden...</td>\n    </tr>\n    <tr>\n      <th>2</th>\n      <td>\\nM1CScarborough(Rouge Hill / Port Union / Hig...</td>\n      <td>\\nM2CNot assigned\\n\\n</td>\n      <td>M9CEtobicoke(Eringate / Bloordale Gardens / Ol...</td>\n    </tr>\n    <tr>\n      <th>3</th>\n      <td>\\nM1EScarborough(Guildwood / Morningside / Wes...</td>\n      <td>\\nM2ENot assigned\\n\\n</td>\n      <td>M9ENot assigned</td>\n    </tr>\n    <tr>\n      <th>4</th>\n      <td>\\nM1GScarborough(Woburn)\\n\\n</td>\n      <td>\\nM2GNot assigned\\n\\n</td>\n      <td>M9GNot assigned</td>\n    </tr>\n    <tr>\n      <th>5</th>\n      <td>\\nM1HScarborough(Cedarbrae)\\n\\n</td>\n      <td>\\nM2HNorth York(Hillcrest Village)\\n\\n</td>\n      <td>M9HNot assigned</td>\n    </tr>\n    <tr>\n      <th>6</th>\n      <td>\\nM1JScarborough(Scarborough Village)\\n\\n</td>\n      <td>\\nM2JNorth York(Fairview / Henry Farm / Oriole...</td>\n      <td>M9JNot assigned</td>\n    </tr>\n    <tr>\n      <th>7</th>\n      <td>\\nM1KScarborough(Kennedy Park / Ionview / East...</td>\n      <td>\\nM2KNorth York(Bayview Village)\\n\\n</td>\n      <td>M9KNot assigned</td>\n    </tr>\n    <tr>\n      <th>8</th>\n      <td>\\nM1LScarborough(Golden Mile / Clairlea / Oakr...</td>\n      <td>\\nM2LNorth York(York Mills / Silver Hills)\\n\\n</td>\n      <td>M9LNorth York(Humber Summit)</td>\n    </tr>\n    <tr>\n      <th>9</th>\n      <td>\\nM1MScarborough(Cliffside / Cliffcrest / Scar...</td>\n      <td>\\nM2MNorth York(Willowdale / Newtonbrook)\\n\\n</td>\n      <td>M9MNorth York(Humberlea / Emery)</td>\n    </tr>\n  </tbody>\n</table>\n</div>"
                    },
                    "metadata": {}
                }
            ]
        },
        {
            "metadata": {},
            "cell_type": "code",
            "source": "print('The DataFrame shape is', df2.shape)",
            "execution_count": 29,
            "outputs": [
                {
                    "output_type": "stream",
                    "text": "The DataFrame shape is (20, 3)\n",
                    "name": "stdout"
                }
            ]
        },
        {
            "metadata": {},
            "cell_type": "markdown",
            "source": "<h3>Assignment IBM</h3>\n"
        },
        {
            "metadata": {},
            "cell_type": "markdown",
            "source": "<p><strong>Week 3 Assignment of Applied Data Science Capstone<br>\n\nTask 2: Add the latitude and longitude coordinates to the dataframe"
        },
        {
            "metadata": {},
            "cell_type": "code",
            "source": "from bs4 import BeautifulSoup\nimport requests\nimport pandas as pd\nimport numpy as np\n# download url data from internet\nurl = \"https://en.wikipedia.org/wiki/List_of_postal_codes_of_Canada:_M\"\nsource = requests.get(url).text\nCanada_data = BeautifulSoup(source, 'lxml')\n\n# creat a new Dataframe\ncolumn_names = ['Postalcode','Borough','Neighborhood']\ntoronto = pd.DataFrame(columns = column_names)\ncontent = Canada_data.find('div', class_='mw-parser-output')\ntable = content.table.tbody\npostcode = 0\nborough = 0\nneighborhood = 0\n\nfor tr in table.find_all('tr'):\n    i = 0\n    for td in tr.find_all('td'):\n        if i == 0:\n            postcode = td.text\n            i = i + 1\n        elif i == 1:\n            borough = td.text\n            i = i + 1\n        elif i == 2: \n            neighborhood = td.text.strip('\\n').replace(']','')\n    toronto = toronto.append({'Postalcode': postcode,'Borough': borough,'Neighborhood': neighborhood},ignore_index=True)\n\n# clean dataframe \ntoronto = toronto[toronto.Borough!='Not assigned']\ntoronto = toronto[toronto.Borough!= 0]\ntoronto.reset_index(drop = True, inplace = True)\ni = 0\nfor i in range(0,toronto.shape[0]):\n    if toronto.iloc[i][2] == 'Not assigned':\n        toronto.iloc[i][2] = toronto.iloc[i][1]\n        i = i+1\n                                 \ndf = toronto.groupby(['Postalcode','Borough'])['Neighborhood'].apply(', '.join).reset_index()\n\ndef neighborhood_list(grouped):    \n    return ', '.join(sorted(grouped['Neighborhood'].tolist()))\n                    \ngrp = df.groupby(['Postalcode', 'Borough'])\ndf2 = grp.apply(neighborhood_list).reset_index(name='Neighborhood')\ndf2.rename(columns={'Postalcode':'Postal Code'}, inplace=True)\ndf2.head()\n",
            "execution_count": 31,
            "outputs": [
                {
                    "output_type": "execute_result",
                    "execution_count": 31,
                    "data": {
                        "text/plain": "                                         Postal Code                Borough  \\\n0                              \\nM1ANot assigned\\n\\n  \\nM2ANot assigned\\n\\n   \n1              \\nM1BScarborough(Malvern / Rouge)\\n\\n  \\nM2BNot assigned\\n\\n   \n2  \\nM1CScarborough(Rouge Hill / Port Union / Hig...  \\nM2CNot assigned\\n\\n   \n3  \\nM1EScarborough(Guildwood / Morningside / Wes...  \\nM2ENot assigned\\n\\n   \n4                       \\nM1GScarborough(Woburn)\\n\\n  \\nM2GNot assigned\\n\\n   \n\n                                        Neighborhood  \n0                     M9AEtobicoke(Islington Avenue)  \n1  M9BEtobicoke(West Deane Park / Princess Garden...  \n2  M9CEtobicoke(Eringate / Bloordale Gardens / Ol...  \n3                                    M9ENot assigned  \n4                                    M9GNot assigned  ",
                        "text/html": "<div>\n<style scoped>\n    .dataframe tbody tr th:only-of-type {\n        vertical-align: middle;\n    }\n\n    .dataframe tbody tr th {\n        vertical-align: top;\n    }\n\n    .dataframe thead th {\n        text-align: right;\n    }\n</style>\n<table border=\"1\" class=\"dataframe\">\n  <thead>\n    <tr style=\"text-align: right;\">\n      <th></th>\n      <th>Postal Code</th>\n      <th>Borough</th>\n      <th>Neighborhood</th>\n    </tr>\n  </thead>\n  <tbody>\n    <tr>\n      <th>0</th>\n      <td>\\nM1ANot assigned\\n\\n</td>\n      <td>\\nM2ANot assigned\\n\\n</td>\n      <td>M9AEtobicoke(Islington Avenue)</td>\n    </tr>\n    <tr>\n      <th>1</th>\n      <td>\\nM1BScarborough(Malvern / Rouge)\\n\\n</td>\n      <td>\\nM2BNot assigned\\n\\n</td>\n      <td>M9BEtobicoke(West Deane Park / Princess Garden...</td>\n    </tr>\n    <tr>\n      <th>2</th>\n      <td>\\nM1CScarborough(Rouge Hill / Port Union / Hig...</td>\n      <td>\\nM2CNot assigned\\n\\n</td>\n      <td>M9CEtobicoke(Eringate / Bloordale Gardens / Ol...</td>\n    </tr>\n    <tr>\n      <th>3</th>\n      <td>\\nM1EScarborough(Guildwood / Morningside / Wes...</td>\n      <td>\\nM2ENot assigned\\n\\n</td>\n      <td>M9ENot assigned</td>\n    </tr>\n    <tr>\n      <th>4</th>\n      <td>\\nM1GScarborough(Woburn)\\n\\n</td>\n      <td>\\nM2GNot assigned\\n\\n</td>\n      <td>M9GNot assigned</td>\n    </tr>\n  </tbody>\n</table>\n</div>"
                    },
                    "metadata": {}
                }
            ]
        },
        {
            "metadata": {},
            "cell_type": "code",
            "source": "toronto_geocsv = 'https://cocl.us/Geospatial_data'\n!wget -q -O 'toronto_m.geospatial_data.csv' toronto_geocsv\ngeocsv_data = pd.read_csv(toronto_geocsv).set_index(\"Postal Code\")\ngeocsv_data.head()",
            "execution_count": 32,
            "outputs": [
                {
                    "output_type": "execute_result",
                    "execution_count": 32,
                    "data": {
                        "text/plain": "              Latitude  Longitude\nPostal Code                      \nM1B          43.806686 -79.194353\nM1C          43.784535 -79.160497\nM1E          43.763573 -79.188711\nM1G          43.770992 -79.216917\nM1H          43.773136 -79.239476",
                        "text/html": "<div>\n<style scoped>\n    .dataframe tbody tr th:only-of-type {\n        vertical-align: middle;\n    }\n\n    .dataframe tbody tr th {\n        vertical-align: top;\n    }\n\n    .dataframe thead th {\n        text-align: right;\n    }\n</style>\n<table border=\"1\" class=\"dataframe\">\n  <thead>\n    <tr style=\"text-align: right;\">\n      <th></th>\n      <th>Latitude</th>\n      <th>Longitude</th>\n    </tr>\n    <tr>\n      <th>Postal Code</th>\n      <th></th>\n      <th></th>\n    </tr>\n  </thead>\n  <tbody>\n    <tr>\n      <th>M1B</th>\n      <td>43.806686</td>\n      <td>-79.194353</td>\n    </tr>\n    <tr>\n      <th>M1C</th>\n      <td>43.784535</td>\n      <td>-79.160497</td>\n    </tr>\n    <tr>\n      <th>M1E</th>\n      <td>43.763573</td>\n      <td>-79.188711</td>\n    </tr>\n    <tr>\n      <th>M1G</th>\n      <td>43.770992</td>\n      <td>-79.216917</td>\n    </tr>\n    <tr>\n      <th>M1H</th>\n      <td>43.773136</td>\n      <td>-79.239476</td>\n    </tr>\n  </tbody>\n</table>\n</div>"
                    },
                    "metadata": {}
                }
            ]
        },
        {
            "metadata": {},
            "cell_type": "code",
            "source": "df = pd.merge(geocsv_data, df2, on='Postal Code')\ndf.head()",
            "execution_count": 33,
            "outputs": [
                {
                    "output_type": "execute_result",
                    "execution_count": 33,
                    "data": {
                        "text/plain": "Empty DataFrame\nColumns: [Postal Code, Latitude, Longitude, Borough, Neighborhood]\nIndex: []",
                        "text/html": "<div>\n<style scoped>\n    .dataframe tbody tr th:only-of-type {\n        vertical-align: middle;\n    }\n\n    .dataframe tbody tr th {\n        vertical-align: top;\n    }\n\n    .dataframe thead th {\n        text-align: right;\n    }\n</style>\n<table border=\"1\" class=\"dataframe\">\n  <thead>\n    <tr style=\"text-align: right;\">\n      <th></th>\n      <th>Postal Code</th>\n      <th>Latitude</th>\n      <th>Longitude</th>\n      <th>Borough</th>\n      <th>Neighborhood</th>\n    </tr>\n  </thead>\n  <tbody>\n  </tbody>\n</table>\n</div>"
                    },
                    "metadata": {}
                }
            ]
        },
        {
            "metadata": {},
            "cell_type": "code",
            "source": "df = df[['Postal Code', 'Borough', 'Neighborhood', 'Latitude', 'Longitude']]\ndf.head(11)",
            "execution_count": 37,
            "outputs": [
                {
                    "output_type": "execute_result",
                    "execution_count": 37,
                    "data": {
                        "text/plain": "Empty DataFrame\nColumns: [Postal Code, Borough, Neighborhood, Latitude, Longitude]\nIndex: []",
                        "text/html": "<div>\n<style scoped>\n    .dataframe tbody tr th:only-of-type {\n        vertical-align: middle;\n    }\n\n    .dataframe tbody tr th {\n        vertical-align: top;\n    }\n\n    .dataframe thead th {\n        text-align: right;\n    }\n</style>\n<table border=\"1\" class=\"dataframe\">\n  <thead>\n    <tr style=\"text-align: right;\">\n      <th></th>\n      <th>Postal Code</th>\n      <th>Borough</th>\n      <th>Neighborhood</th>\n      <th>Latitude</th>\n      <th>Longitude</th>\n    </tr>\n  </thead>\n  <tbody>\n  </tbody>\n</table>\n</div>"
                    },
                    "metadata": {}
                }
            ]
        },
        {
            "metadata": {},
            "cell_type": "code",
            "source": "df.to_csv('Toronto.TASK_II_df.csv',index=False)",
            "execution_count": 38,
            "outputs": []
        },
        {
            "metadata": {},
            "cell_type": "code",
            "source": "\ndf.shape",
            "execution_count": 39,
            "outputs": [
                {
                    "output_type": "execute_result",
                    "execution_count": 39,
                    "data": {
                        "text/plain": "(0, 5)"
                    },
                    "metadata": {}
                }
            ]
        },
        {
            "metadata": {},
            "cell_type": "code",
            "source": "",
            "execution_count": null,
            "outputs": []
        }
    ],
    "metadata": {
        "kernelspec": {
            "name": "python3",
            "display_name": "Python 3.7",
            "language": "python"
        },
        "language_info": {
            "name": "python",
            "version": "3.7.10",
            "mimetype": "text/x-python",
            "codemirror_mode": {
                "name": "ipython",
                "version": 3
            },
            "pygments_lexer": "ipython3",
            "nbconvert_exporter": "python",
            "file_extension": ".py"
        }
    },
    "nbformat": 4,
    "nbformat_minor": 1
}